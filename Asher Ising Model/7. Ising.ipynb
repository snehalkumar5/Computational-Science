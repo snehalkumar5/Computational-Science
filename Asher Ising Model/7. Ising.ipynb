{
 "cells": [
  {
   "cell_type": "markdown",
   "metadata": {},
   "source": [
    "# Ising Model using Monte Carlo"
   ]
  },
  {
   "cell_type": "code",
   "execution_count": 1,
   "metadata": {},
   "outputs": [],
   "source": [
    "import numpy as np\n",
    "import matplotlib.pyplot as plt\n",
    "import scipy.constants"
   ]
  },
  {
   "cell_type": "code",
   "execution_count": 2,
   "metadata": {},
   "outputs": [],
   "source": [
    "class Ising:\n",
    "    def __init__(self,x,y,B=1.0,J=1.0,M=1.0,kT=1.0,xr=2,yr=2):\n",
    "        self.xlen = x\n",
    "        self.ylen = y\n",
    "        self.config = np.ones((x,y),dtype=int)\n",
    "        self.mag = B\n",
    "        self.coup = J\n",
    "        self.mu = M\n",
    "        self.kT = kT\n",
    "        self.xr = xr\n",
    "        self.yr = yr\n",
    "        self.prob = 0\n",
    "        \n",
    "    def __str__(self):\n",
    "        return str(self.config)\n",
    "    \n",
    "    def reset(self):\n",
    "        self.config = np.ones((self.xlen,self.ylen),dtype=int)\n",
    "        \n",
    "    def random(self):\n",
    "        for i in range(self.xlen):\n",
    "            for j in range(self.ylen):\n",
    "                ck = np.random.randint(2)\n",
    "                if ck != 0 :\n",
    "                    self.config[i][j] = 1\n",
    "                else:\n",
    "                    self.config[i][j] = -1\n",
    "        \n",
    "    def magnetization(self):\n",
    "        return self.mu*np.sum(self.config)/(self.xlen*self.ylen)\n",
    "    \n",
    "    def energy(self):\n",
    "        V = -1 * self.mag * np.sum(self.config)\n",
    "        V *= self.xr + self.yr - 1\n",
    "        \n",
    "        temp = 0\n",
    "        temp1=0\n",
    "        temp2=0\n",
    "        for i in range(self.xlen):\n",
    "            for j in range(self.ylen):\n",
    "                if i != self.xlen - 1:\n",
    "                    temp -= self.config[i][j] * self.config[i+1][j]\n",
    "                if j != self.ylen - 1:\n",
    "                    temp -= self.config[i][j] * self.config[i][j+1]\n",
    "        temp *= (self.xr + self.yr - 1)\n",
    "        \n",
    "        for j in range(self.ylen):\n",
    "            temp1 -= self.config[-1][j] * self.config[0][j]\n",
    "        temp1 *= self.xr\n",
    "        \n",
    "        for j in range(self.xlen):\n",
    "            temp2 -= self.config[j][-1] * self.config[j][0]\n",
    "        temp2 *= self.yr\n",
    "        \n",
    "        temp += temp1 + temp2\n",
    "        temp*=self.coup\n",
    "        \n",
    "        V += temp\n",
    "        return V\n",
    "        \n",
    "        \n",
    "    def MonteCarlo(self):\n",
    "        nx = np.random.randint(0,self.xlen)\n",
    "        SumSpin=0\n",
    "        ny = np.random.randint(0,self.ylen)\n",
    "        if nx!=self.xlen-1:\n",
    "            SumSpin+=self.config[nx+1][ny]\n",
    "        else:\n",
    "            SumSpin+=self.config[0][ny]\n",
    "        if ny!=self.ylen-1:\n",
    "            SumSpin+=self.config[nx][ny+1]\n",
    "        else:\n",
    "            SumSpin+=self.config[nx][0]\n",
    "        if nx!=0:\n",
    "            SumSpin+=self.config[nx-1][ny]\n",
    "        else:\n",
    "            SumSpin+=self.config[-1][ny]\n",
    "        if ny!=0:\n",
    "            SumSpin+=self.config[nx][ny-1]\n",
    "        else:\n",
    "            SumSpin+=self.config[nx][-1]        \n",
    "        \n",
    "        V = self.config[nx,ny]*(self.mag*self.mu*2 + self.coup*SumSpin)\n",
    "        V *= self.xr + self.yr -1\n",
    "        p_acc = np.exp(-1.0/self.kT*V)\n",
    "        if V < 0 or np.random.random() < p_acc:\n",
    "            self.config[nx,ny]*=-1\n",
    "            accept=True\n",
    "        else:\n",
    "            accept=False\n",
    "        self.prob = p_acc\n",
    "        return accept\n",
    "    \n",
    "    def Mag_Step(self,stepSize,totStep):\n",
    "        Step=0\n",
    "        E=0\n",
    "        U=0\n",
    "        while Step < totStep:\n",
    "            flag = self.MonteCarlo()\n",
    "            Step+=1\n",
    "            if Step%stepSize != 0:\n",
    "                continue\n",
    "            else:\n",
    "                E = self.magnetization()\n",
    "        E/=Step\n",
    "        return E   "
   ]
  },
  {
   "cell_type": "code",
   "execution_count": 3,
   "metadata": {},
   "outputs": [],
   "source": [
    "ising = Ising(50,50,0)\n",
    "ising.mag = 0 \n",
    "res = ising.energy()"
   ]
  },
  {
   "cell_type": "code",
   "execution_count": null,
   "metadata": {},
   "outputs": [],
   "source": [
    "ising.kT = 1\n",
    "ising.random()\n",
    "x = []\n",
    "for i in range(20000):\n",
    "    flag = ising.MonteCarlo()\n",
    "    en = ising.energy()\n",
    "    x.append(en)"
   ]
  },
  {
   "cell_type": "code",
   "execution_count": null,
   "metadata": {},
   "outputs": [],
   "source": [
    "plt.plot(x)\n",
    "plt.title('Energy vs Temperature')\n",
    "plt.xlabel('T')\n",
    "plt.ylabel('Energy')\n",
    "plt.show()"
   ]
  },
  {
   "cell_type": "markdown",
   "metadata": {},
   "source": [
    "Energy vs Temperature"
   ]
  },
  {
   "cell_type": "code",
   "execution_count": null,
   "metadata": {},
   "outputs": [],
   "source": [
    "ising.mag = 0\n",
    "s = 100\n",
    "ss = 100\n",
    "ttf = 100\n",
    "mmt = 0.5\n",
    "x = []\n",
    "y = []\n",
    "for i in np.linspace(mmt,ttf,300):\n",
    "    ising.kT = i\n",
    "    mg = ising.Mag_Step(s,ss)\n",
    "    x.append(mg)\n",
    "    y.append(i)"
   ]
  },
  {
   "cell_type": "markdown",
   "metadata": {},
   "source": [
    " Magnetization vs Temperature"
   ]
  },
  {
   "cell_type": "code",
   "execution_count": null,
   "metadata": {},
   "outputs": [],
   "source": [
    "plt.plot(y,x)\n",
    "plt.title('Magnetization vs Temperature')\n",
    "plt.xlabel('kbT')\n",
    "plt.ylabel('Magnetization')\n",
    "plt.show()"
   ]
  }
 ],
 "metadata": {
  "kernelspec": {
   "display_name": "Python 3",
   "language": "python",
   "name": "python3"
  },
  "language_info": {
   "codemirror_mode": {
    "name": "ipython",
    "version": 3
   },
   "file_extension": ".py",
   "mimetype": "text/x-python",
   "name": "python",
   "nbconvert_exporter": "python",
   "pygments_lexer": "ipython3",
   "version": "3.7.6"
  }
 },
 "nbformat": 4,
 "nbformat_minor": 5
}
