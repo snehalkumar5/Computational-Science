{
 "cells": [
  {
   "cell_type": "markdown",
   "metadata": {},
   "source": [
    "# Potential Energy of system of water molecules"
   ]
  },
  {
   "cell_type": "code",
   "execution_count": 24,
   "metadata": {},
   "outputs": [],
   "source": [
    "import numpy as np\n",
    "import re\n",
    "import random"
   ]
  },
  {
   "cell_type": "markdown",
   "metadata": {},
   "source": [
    "We get the charges of molecules from the psf file"
   ]
  },
  {
   "cell_type": "code",
   "execution_count": 25,
   "metadata": {},
   "outputs": [],
   "source": [
    "with open(\"ICES.psf\" , \"r\") as f:\n",
    "    data = f.readlines()\n",
    "    \n",
    "q = []\n",
    "num_mols = []\n",
    "mols = []\n",
    "\n",
    "for i in data[6:1302]:\n",
    "    i = i.strip()\n",
    "    \n",
    "    mol = re.sub('\\s+' , ' ' , i).split(' ')[5]\n",
    "    ch = float(re.sub('\\s+' , ' ' , i).split(' ')[6])\n",
    "    num = int(re.sub('\\s+' , ' ' , i).split(' ')[2])\n",
    "    \n",
    "    mols.append(mol)\n",
    "    q.append(ch)\n",
    "    num_mols.append(num)"
   ]
  },
  {
   "cell_type": "markdown",
   "metadata": {},
   "source": [
    "We get the configuration of the water molecules from the pdb files "
   ]
  },
  {
   "cell_type": "code",
   "execution_count": 26,
   "metadata": {},
   "outputs": [],
   "source": [
    "with open(\"starting_config_300k.pdb\" , \"r\") as f:\n",
    "    data = f.readlines()\n",
    "X = []\n",
    "Y = []\n",
    "Z = []\n",
    "\n",
    "# Hard coding the lengths\n",
    "L = [23.623, 22.406, 27.1759]\n",
    "\n",
    "for i in data[:-1]:\n",
    "    i = i.strip()\n",
    "    x = float(re.sub('\\s+' , ' ' , i).split(' ')[5])\n",
    "    y = float(re.sub('\\s+' , ' ' , i).split(' ')[6])\n",
    "    z = float(re.sub('\\s+' , ' ' , i).split(' ')[7])\n",
    "    X.append(x)\n",
    "    Y.append(y)\n",
    "    Z.append(z)"
   ]
  },
  {
   "cell_type": "code",
   "execution_count": 27,
   "metadata": {},
   "outputs": [],
   "source": [
    "k = 332.1\n",
    "A = 582000.0\n",
    "B = 595.0"
   ]
  },
  {
   "cell_type": "code",
   "execution_count": 28,
   "metadata": {},
   "outputs": [],
   "source": [
    "def calc_dist(x1, y1, z1, x2, y2, z2):\n",
    "    dd = 0\n",
    "    \n",
    "    rx = abs(x2 - x1)\n",
    "    rx -= L[0] * (round(rx/L[0]))\n",
    "    dd += rx**2\n",
    "    \n",
    "    ry = abs(y2 - y1)\n",
    "    ry -= L[1] * (round(ry/L[1]))\n",
    "    dd += ry**2\n",
    "\n",
    "    rz = abs(z2 - z1)\n",
    "    rz -= L[2] * (round(rz/L[2]))\n",
    "    dd += rz**2\n",
    "    dd = np.sqrt(dd)\n",
    "    return dd\n",
    "\n",
    "def calc_q(q1, q2, r):\n",
    "    q = k\n",
    "    q *= q1*q2\n",
    "    q /= r\n",
    "    return q"
   ]
  },
  {
   "cell_type": "code",
   "execution_count": 29,
   "metadata": {},
   "outputs": [
    {
     "name": "stdout",
     "output_type": "stream",
     "text": [
      "Total Potential Energy of system: -4559.667472442068\n"
     ]
    }
   ],
   "source": [
    "E = 0\n",
    "DIST = []\n",
    "for i in range(1296):\n",
    "    energy = 0\n",
    "    Q = q[i]\n",
    "    x = X[i]\n",
    "    y = Y[i]\n",
    "    z = Z[i]\n",
    "    num_of_mmol = num_mols[i]\n",
    "    for j in range(i+1,1296):\n",
    "        ch = q[j]\n",
    "        xc = X[j]\n",
    "        yc = Y[j]\n",
    "        zc = Z[j]\n",
    "        r = calc_dist(x, y, z, xc, yc, zc)\n",
    "        \n",
    "        mn = num_mols[j]\n",
    "        if mn == num_of_mmol:\n",
    "            continue\n",
    "        \n",
    "        DIST.append(r)\n",
    "        energy += calc_q(Q, ch, r)\n",
    "        \n",
    "        if mols[j] == mols[i] and mols[i] == 'OT':\n",
    "            energy += ((A/(r**12)) - (B/(r**6)))\n",
    "    E += energy\n",
    "        \n",
    "print('Total Potential Energy of system:', E)"
   ]
  }
 ],
 "metadata": {
  "kernelspec": {
   "display_name": "Python 3",
   "language": "python",
   "name": "python3"
  },
  "language_info": {
   "codemirror_mode": {
    "name": "ipython",
    "version": 3
   },
   "file_extension": ".py",
   "mimetype": "text/x-python",
   "name": "python",
   "nbconvert_exporter": "python",
   "pygments_lexer": "ipython3",
   "version": "3.7.6"
  },
  "metadata": {
   "interpreter": {
    "hash": "31f2aee4e71d21fbe5cf8b01ff0e069b9275f58929596ceb00d14d90e3e16cd6"
   }
  }
 },
 "nbformat": 4,
 "nbformat_minor": 4
}
