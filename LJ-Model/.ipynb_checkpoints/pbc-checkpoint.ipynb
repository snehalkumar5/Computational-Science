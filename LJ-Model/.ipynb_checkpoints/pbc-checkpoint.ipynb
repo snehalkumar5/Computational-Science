{
 "cells": [
  {
   "cell_type": "code",
   "execution_count": null,
   "metadata": {},
   "outputs": [],
   "source": [
    "import numpy as np\n"
   ]
  },
  {
   "cell_type": "code",
   "execution_count": null,
   "metadata": {},
   "outputs": [],
   "source": [
    "def sep(p1, p2):\n",
    "    return p2 - p1\n",
    "\n",
    "def pbc_sep(p1, p2):\n",
    "    arrow = sep(p1, p2)\n",
    "    rem = np.mod(arrow, 18)\n",
    "    mic_separation_vector = np.mod(rem+18/2, 18)-18/2\n",
    "\n",
    "    return np.array(mic_separation_vector)\n"
   ]
  }
 ],
 "metadata": {
  "kernelspec": {
   "display_name": "Python 3",
   "language": "python",
   "name": "python3"
  },
  "language_info": {
   "codemirror_mode": {
    "name": "ipython",
    "version": 3
   },
   "file_extension": ".py",
   "mimetype": "text/x-python",
   "name": "python",
   "nbconvert_exporter": "python",
   "pygments_lexer": "ipython3",
   "version": "3.7.6"
  }
 },
 "nbformat": 4,
 "nbformat_minor": 4
}
