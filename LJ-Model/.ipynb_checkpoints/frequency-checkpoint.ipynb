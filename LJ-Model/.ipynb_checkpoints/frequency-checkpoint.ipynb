{
 "cells": [
  {
   "cell_type": "code",
   "execution_count": null,
   "metadata": {},
   "outputs": [],
   "source": [
    "from molecular import Molecule\n",
    "import sys\n",
    "import numpy as np\n",
    "from matplotlib import pyplot as plt\n",
    "hartree2J = 4.359744e-18\n",
    "amu2kg = 1.660538782e-27\n",
    "bohr2m = 0.52917720859e-10\n",
    "c = 2.99792458E8"
   ]
  },
  {
   "cell_type": "code",
   "execution_count": null,
   "metadata": {},
   "outputs": [],
   "source": [
    "class Frequencies:\n",
    "\n",
    "    def __init__(self, mol, hessString):\n",
    "        self.mol = mol\n",
    "        self.hess = hessString\n",
    "        self.N = mol.__len__()\n",
    "        m = []\n",
    "        for i in range(self.N):\n",
    "            m += [1/(mol.masses[i])**0.5]*3\n",
    "        self.MM = np.diag(m)\n",
    "        self.m = m\n",
    "\n",
    "    def get_MWhessian(self):\n",
    "        H0 = np.matrix([i.split() for i in self.hess.splitlines()], float)\n",
    "        mwH = np.dot(self.MM, np.dot(H0, self.MM))\n",
    "        return mwH\n",
    "\n",
    "    def get_frequencies(self):\n",
    "        self.e, self.l = np.linalg.eigh(self.get_MWhessian())\n",
    "        self.Q = np.matrix(self.MM)*np.matrix(self.l)\n",
    "        freq = []\n",
    "        conv = np.sqrt(hartree2J/(amu2kg*bohr2m**2)\n",
    "                       ) / (c*2*np.pi)  # dimensional analysis\n",
    "        # print(conv)\n",
    "        for i in self.e:\n",
    "            if i < 0:\n",
    "                freq.append((-i)**0.5*conv)\n",
    "            else:\n",
    "                freq.append(i**0.5*conv)\n",
    "\n",
    "        return freq\n",
    "\n",
    "    def frequency_output(self, output):\n",
    "        mol = self.mol\n",
    "        freq = self.get_frequencies()\n",
    "\n",
    "        t = open(output, \"w\")\n",
    "        for i in range(3*self.N):\n",
    "            t.write(\"%d\\n%s cm^{-1}\\n\" % (self.N, str(freq[i])))\n",
    "            for j in range(self.N):\n",
    "                atom = mol.atoms[j]\n",
    "                x, y, z = mol.geom[j, 0], mol.geom[j, 1], mol.geom[j, 2]\n",
    "                dx, dy, dz = self.Q[3*j, i], self.Q[3*j+1, i], self.Q[3*j+2, i]\n",
    "                t.write(\"{:s}{:12.7f}{:12.7f}{:12.7f}\\n\".format(atom, x, y, z))\n",
    "            t.write(\"\\n\")\n",
    "        t.close()\n",
    "        a = np.array(freq)\n",
    "        plt.hist(a, bins=100)\n",
    "        plt.title(\"Frequency Histogram\")\n",
    "        plt.savefig(\"hist.png\")\n",
    "        # plt.show()\n",
    "        return None\n"
   ]
  }
 ],
 "metadata": {
  "kernelspec": {
   "display_name": "Python 3",
   "language": "python",
   "name": "python3"
  },
  "language_info": {
   "codemirror_mode": {
    "name": "ipython",
    "version": 3
   },
   "file_extension": ".py",
   "mimetype": "text/x-python",
   "name": "python",
   "nbconvert_exporter": "python",
   "pygments_lexer": "ipython3",
   "version": "3.7.6"
  }
 },
 "nbformat": 4,
 "nbformat_minor": 4
}
