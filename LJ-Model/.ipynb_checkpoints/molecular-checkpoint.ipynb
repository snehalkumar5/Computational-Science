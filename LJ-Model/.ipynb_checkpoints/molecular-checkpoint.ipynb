{
 "cells": [
  {
   "cell_type": "code",
   "execution_count": null,
   "metadata": {},
   "outputs": [],
   "source": [
    "import numpy as np\n",
    "import sys"
   ]
  },
  {
   "cell_type": "code",
   "execution_count": null,
   "metadata": {},
   "outputs": [],
   "source": [
    "\n",
    "class Molecule:\n",
    "\n",
    "    def __init__(self, xyz_file, units=\"Angstrom\"):\n",
    "        self.units = units\n",
    "        self.read(xyz_file)\n",
    "        self.masses = [float(39.96238312251) for i in self.atoms]\n",
    "\n",
    "    def read(self, xyz_file):\n",
    "        geom_str = xyz_file.read()\n",
    "        self.atoms = []\n",
    "        geom = []\n",
    "        for line in geom_str.split('\\n')[2:]:\n",
    "            if line.strip() == '':\n",
    "                continue\n",
    "            atom, x, y, z = line.split()[:4]\n",
    "            self.atoms.append(atom)\n",
    "            geom.append([float(x), float(y), float(z)])\n",
    "        self.geom = np.array(geom)\n",
    "\n",
    "    def __len__(self):\n",
    "        return len(self.geom)\n",
    "\n",
    "    def __str__(self):\n",
    "        out = \"{:d}\\n{:s}\\n\".format(len(self), self.units)\n",
    "        for atom, xyz in zip(self.atoms, self.geom):\n",
    "            out += \"{:2s} {: >15.10f} {: >15.10f} {: >15.10f}\\n\".format(\n",
    "                atom, *xyz)\n",
    "        return out\n",
    "\n",
    "    def bohr(self):\n",
    "        if self.units == \"Angstrom\":\n",
    "            self.geom *= 1.889725989\n",
    "            self.units = \"Bohr\"\n",
    "        return self.geom\n",
    "\n",
    "    def angs(self):\n",
    "        if self.units == \"Bohr\":\n",
    "            self.geom /= 1.889725989\n",
    "            self.units = \"Angstrom\"\n",
    "        return self.geom\n",
    "\n",
    "    def copygeom(self):\n",
    "        return np.array(self.geom)\n"
   ]
  }
 ],
 "metadata": {
  "kernelspec": {
   "display_name": "Python 3",
   "language": "python",
   "name": "python3"
  },
  "language_info": {
   "codemirror_mode": {
    "name": "ipython",
    "version": 3
   },
   "file_extension": ".py",
   "mimetype": "text/x-python",
   "name": "python",
   "nbconvert_exporter": "python",
   "pygments_lexer": "ipython3",
   "version": "3.7.6"
  }
 },
 "nbformat": 4,
 "nbformat_minor": 4
}
