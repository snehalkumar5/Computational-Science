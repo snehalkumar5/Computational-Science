{
 "cells": [
  {
   "cell_type": "code",
   "execution_count": 3,
   "metadata": {},
   "outputs": [],
   "source": [
    "import numpy as np\n",
    "from itertools import combinations\n",
    "from pbc import pbc_sep"
   ]
  },
  {
   "cell_type": "code",
   "execution_count": 4,
   "metadata": {},
   "outputs": [],
   "source": [
    "def gen_conf():\n",
    "    P = []\n",
    "    count = 0\n",
    "    with open(\"molecule.xyz\", \"w\") as f:\n",
    "        print(108, file=f)\n",
    "        print(\"\\n\", end=\"\", file=f)\n",
    "        while True:\n",
    "            p = np.random.rand(3,) * 18\n",
    "            skip = False\n",
    "            for p_in_box in P:\n",
    "                if np.linalg.norm(pbc_sep(p, p_in_box)) <= 3.4:\n",
    "                    skip = True\n",
    "                    # print(\"skipping...\")\n",
    "            print(len(P))\n",
    "            if not skip:\n",
    "                P.append(p)\n",
    "                count = 0\n",
    "                if len(P) == 108:\n",
    "                    break\n",
    "            else:\n",
    "                count += 1\n",
    "                if count >= 10000:\n",
    "                    count = 0\n",
    "                    tempP = []\n",
    "                    tempP.append(p)\n",
    "                    for j in range(len(P)):\n",
    "                        if np.linalg.norm(pbc_sep(P[j], p)) >= 3.4:\n",
    "                            tempP.append(P[j])\n",
    "                    P = tempP\n",
    "\n",
    "        for point in P:\n",
    "            print(f\"C {point[0]} {point[1]} {point[2]}\", file=f)"
   ]
  },
  {
   "cell_type": "code",
   "execution_count": null,
   "metadata": {},
   "outputs": [],
   "source": []
  }
 ],
 "metadata": {
  "kernelspec": {
   "display_name": "Python 3",
   "language": "python",
   "name": "python3"
  },
  "language_info": {
   "codemirror_mode": {
    "name": "ipython",
    "version": 3
   },
   "file_extension": ".py",
   "mimetype": "text/x-python",
   "name": "python",
   "nbconvert_exporter": "python",
   "pygments_lexer": "ipython3",
   "version": "3.7.6"
  }
 },
 "nbformat": 4,
 "nbformat_minor": 4
}
