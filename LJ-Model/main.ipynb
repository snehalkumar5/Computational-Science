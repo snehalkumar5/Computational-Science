{
 "cells": [
  {
   "cell_type": "markdown",
   "metadata": {},
   "source": [
    "# Project -  Lennard Jones"
   ]
  },
  {
   "cell_type": "code",
   "execution_count": null,
   "metadata": {},
   "outputs": [],
   "source": [
    "!pip install autograd\n",
    "from generate import gen_conf\n",
    "from energy import calc_energy\n",
    "from molecule import Molecule\n",
    "from gradient import gradient_descent\n",
    "from hessian import Hessian\n",
    "from frequency import Frequencies\n",
    "from pbc import pbc_sep\n",
    "import numpy as np"
   ]
  },
  {
   "cell_type": "markdown",
   "metadata": {},
   "source": [
    "## Question 1"
   ]
  },
  {
   "cell_type": "code",
   "execution_count": null,
   "metadata": {},
   "outputs": [],
   "source": [
    "gen_conf()\n",
    "print(\"Initial Configuration generated\")"
   ]
  },
  {
   "cell_type": "markdown",
   "metadata": {},
   "source": [
    "## Question 2"
   ]
  },
  {
   "cell_type": "code",
   "execution_count": null,
   "metadata": {},
   "outputs": [],
   "source": [
    "prev_conf = None\n",
    "\n",
    "with open(\"molecule.xyz\") as f:\n",
    "    prev_conf = Molecule(f, \"Angstrom\")\n",
    "    e = calc_energy(np.array(prev_conf.geom))  \n",
    "    print('Energy calculated:',e)\n",
    "    \n",
    "    g = gradient_descent(0.133005, 100, prev_conf.geom)\n",
    "    print(\"New Energy:\", np.min(np.array(g[1])))\n",
    "    print()\n",
    "    i = np.argmin(np.array(g[1]))\n",
    "    \n",
    "    with open(\"new_molecule.xyz\", \"w\") as f2:\n",
    "        print(len(g[0][i]), file=f2)\n",
    "        print(file=f2)\n",
    "        for p in g[0][i]:\n",
    "            print(f\"C {p[0]} {p[1]} {p[2]}\", file=f2)"
   ]
  },
  {
   "cell_type": "markdown",
   "metadata": {},
   "source": [
    "## Question 4"
   ]
  },
  {
   "cell_type": "code",
   "execution_count": null,
   "metadata": {},
   "outputs": [],
   "source": [
    "with open(\"new_molecule.xyz\") as f2:\n",
    "    mol = Molecule(f2, \"Angstrom\")\n",
    "    mol.bohr()\n",
    "    hess = Hessian(mol, 0.00001)\n",
    "    hess.create_hess()"
   ]
  },
  {
   "cell_type": "markdown",
   "metadata": {},
   "source": [
    "## Question 5"
   ]
  },
  {
   "cell_type": "code",
   "execution_count": null,
   "metadata": {},
   "outputs": [],
   "source": [
    "with open(\"new_molecule.xyz\", \"r\") as f2:\n",
    "    mol = Molecule(f2)\n",
    "    hess = open(\"hessian.dat\", \"r\").read()\n",
    "    freq = Frequencies(mol, hess)\n",
    "    freq.frequency_output(\"normalmodes.xyz\")"
   ]
  },
  {
   "cell_type": "code",
   "execution_count": null,
   "metadata": {},
   "outputs": [],
   "source": []
  }
 ],
 "metadata": {
  "kernelspec": {
   "display_name": "Python 3",
   "language": "python",
   "name": "python3"
  },
  "language_info": {
   "codemirror_mode": {
    "name": "ipython",
    "version": 3
   },
   "file_extension": ".py",
   "mimetype": "text/x-python",
   "name": "python",
   "nbconvert_exporter": "python",
   "pygments_lexer": "ipython3",
   "version": "3.7.6"
  }
 },
 "nbformat": 4,
 "nbformat_minor": 4
}
